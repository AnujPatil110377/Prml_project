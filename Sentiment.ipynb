{
 "cells": [
  {
   "cell_type": "markdown",
   "metadata": {},
   "source": [
    "Loading Dataset from CSV"
   ]
  },
  {
   "cell_type": "code",
   "execution_count": 2,
   "metadata": {},
   "outputs": [
    {
     "name": "stdout",
     "output_type": "stream",
     "text": [
      "(4815, 9)\n",
      "column names:Index(['textID', 'text', 'sentiment', 'Time of Tweet', 'Age of User',\n",
      "       'Country', 'Population -2020', 'Land Area (Km²)', 'Density (P/Km²)'],\n",
      "      dtype='object')\n",
      "       textID                                               text sentiment  \\\n",
      "0  f87dea47db  Last session of the day  http://twitpic.com/67ezh   neutral   \n",
      "1  96d74cb729   Shanghai is also really exciting (precisely -...  positive   \n",
      "2  eee518ae67  Recession hit Veronique Branquinho, she has to...  negative   \n",
      "3  01082688c6                                        happy bday!  positive   \n",
      "4  33987a8ee5             http://twitpic.com/4w75p - I like it!!  positive   \n",
      "\n",
      "  Time of Tweet Age of User      Country  Population -2020  Land Area (Km²)  \\\n",
      "0       morning        0-20  Afghanistan        38928346.0         652860.0   \n",
      "1          noon       21-30      Albania         2877797.0          27400.0   \n",
      "2         night       31-45      Algeria        43851044.0        2381740.0   \n",
      "3       morning       46-60      Andorra           77265.0            470.0   \n",
      "4          noon       60-70       Angola        32866272.0        1246700.0   \n",
      "\n",
      "   Density (P/Km²)  \n",
      "0             60.0  \n",
      "1            105.0  \n",
      "2             18.0  \n",
      "3            164.0  \n",
      "4             26.0  \n"
     ]
    }
   ],
   "source": [
    "import pandas as pd\n",
    "\n",
    "# Read the CSV file into a DataFrame, specifying the encoding\n",
    "\n",
    "# encountered some problem with this file, so used latin1 encoding\n",
    "data = pd.read_csv('C:/Users/91798/Prml_project/test.csv', encoding='latin1')\n",
    "print(data.shape)\n",
    "print(f\"column names:{data.columns}\")\n",
    "print(data.head())\n",
    "# we observe that the dataset has 9 columns and 4815 entries\n"
   ]
  },
  {
   "cell_type": "markdown",
   "metadata": {},
   "source": [
    "# Dataset Cleaning and splitting"
   ]
  },
  {
   "cell_type": "code",
   "execution_count": 5,
   "metadata": {},
   "outputs": [
    {
     "name": "stdout",
     "output_type": "stream",
     "text": [
      "0    f87dea47db\n",
      "1    96d74cb729\n",
      "2    eee518ae67\n",
      "3    01082688c6\n",
      "4    33987a8ee5\n",
      "Name: textID, dtype: object\n"
     ]
    }
   ],
   "source": [
    "# we oobserve that the the column \"text-Id\" is not of our use so we will drop it out\n",
    "print(data['textID'].head())\n",
    "data.drop(['textID'],axis=1,inplace=True)"
   ]
  },
  {
   "cell_type": "code",
   "execution_count": 11,
   "metadata": {},
   "outputs": [
    {
     "name": "stdout",
     "output_type": "stream",
     "text": [
      "the training Input_data is of size:(3852, 7)\n",
      "the testing Input_data is of size:(963, 7)\n",
      "the training output_data is of size:(3852,)\n",
      "the testing output_data is of size:(963,)\n"
     ]
    }
   ],
   "source": [
    "# print(data.head())\n",
    "# The data in the column sentiment will be used as output set for comparing the classification of our model with the actual sentiment of the text.\n",
    "# we shall now split the data into train test and validation set\n",
    "from sklearn.model_selection import train_test_split\n",
    "\n",
    "# Splitting the data into features (X) and target (y)\n",
    "X = data.drop(columns=['sentiment'])\n",
    "y = data['sentiment']\n",
    "\n",
    "# Splitting the data into training and testing sets\n",
    "X_train, X_test, y_train, y_test = train_test_split(X, y, test_size=0.2, random_state=42)\n",
    "print(f\"the training Input_data is of size:{X_train.shape}\")\n",
    "print(f\"the testing Input_data is of size:{X_test.shape}\")\n",
    "print(f\"the training output_data is of size:{y_train.shape}\")\n",
    "print(f\"the testing output_data is of size:{y_test.shape}\")"
   ]
  }
 ],
 "metadata": {
  "kernelspec": {
   "display_name": "base",
   "language": "python",
   "name": "python3"
  },
  "language_info": {
   "codemirror_mode": {
    "name": "ipython",
    "version": 3
   },
   "file_extension": ".py",
   "mimetype": "text/x-python",
   "name": "python",
   "nbconvert_exporter": "python",
   "pygments_lexer": "ipython3",
   "version": "3.10.9"
  }
 },
 "nbformat": 4,
 "nbformat_minor": 2
}
