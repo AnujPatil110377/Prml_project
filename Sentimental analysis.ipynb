{
  "metadata": {
    "kernelspec": {
      "language": "python",
      "display_name": "Python 3",
      "name": "python3"
    },
    "language_info": {
      "name": "python",
      "version": "3.10.12",
      "mimetype": "text/x-python",
      "codemirror_mode": {
        "name": "ipython",
        "version": 3
      },
      "pygments_lexer": "ipython3",
      "nbconvert_exporter": "python",
      "file_extension": ".py"
    },
    "kaggle": {
      "accelerator": "none",
      "dataSources": [
        {
          "sourceId": 1808590,
          "sourceType": "datasetVersion",
          "datasetId": 989445
        },
        {
          "sourceId": 2510329,
          "sourceType": "datasetVersion",
          "datasetId": 1520310
        },
        {
          "sourceId": 3205803,
          "sourceType": "datasetVersion",
          "datasetId": 1918992
        }
      ],
      "dockerImageVersionId": 30626,
      "isInternetEnabled": true,
      "language": "python",
      "sourceType": "notebook",
      "isGpuEnabled": false
    },
    "colab": {
      "provenance": []
    }
  },
  "nbformat_minor": 0,
  "nbformat": 4,
  "cells": [
    {
      "cell_type": "markdown",
      "source": [
        "## Import Libraries"
      ],
      "metadata": {
        "id": "w7wsrgfV7ybe"
      }
    },
    {
      "cell_type": "code",
      "source": [
        "import pandas as pd\n",
        "import matplotlib.pyplot as plt\n",
        "import warnings\n",
        "\n",
        "from sklearn.model_selection import train_test_split\n",
        "from sklearn.metrics import accuracy_score,classification_report, ConfusionMatrixDisplay\n",
        "import re\n",
        "import string\n",
        "from sklearn.linear_model import LogisticRegression\n",
        "from sklearn.tree import DecisionTreeClassifier\n",
        "from sklearn.ensemble import RandomForestClassifier\n",
        "from sklearn.feature_extraction.text import TfidfVectorizer\n",
        "# Ignore FutureWarning messages\n",
        "warnings.simplefilter(action='ignore', category=FutureWarning)"
      ],
      "metadata": {
        "execution": {
          "iopub.status.busy": "2024-02-18T05:33:09.313302Z",
          "iopub.execute_input": "2024-02-18T05:33:09.313882Z",
          "iopub.status.idle": "2024-02-18T05:33:11.182056Z",
          "shell.execute_reply.started": "2024-02-18T05:33:09.313856Z",
          "shell.execute_reply": "2024-02-18T05:33:11.180658Z"
        },
        "trusted": true,
        "id": "g8NiFomq7ybf"
      },
      "execution_count": 34,
      "outputs": []
    },
    {
      "cell_type": "markdown",
      "source": [
        "## Read csv files"
      ],
      "metadata": {
        "id": "IHWxGPEl7ybf"
      }
    },
    {
      "cell_type": "code",
      "source": [
        "d = pd.read_csv('train.csv',encoding='latin1');\n",
        "f = pd.read_csv('test.csv',encoding='latin1');\n",
        "df = pd.concat([d,f])"
      ],
      "metadata": {
        "execution": {
          "iopub.status.busy": "2024-02-18T05:33:11.183609Z",
          "iopub.execute_input": "2024-02-18T05:33:11.184171Z",
          "iopub.status.idle": "2024-02-18T05:33:11.438836Z",
          "shell.execute_reply.started": "2024-02-18T05:33:11.184135Z",
          "shell.execute_reply": "2024-02-18T05:33:11.437587Z"
        },
        "trusted": true,
        "id": "rWmvqKae7ybf"
      },
      "execution_count": 35,
      "outputs": []
    },
    {
      "cell_type": "markdown",
      "source": [
        "## Explore dataset"
      ],
      "metadata": {
        "id": "rSKG8GZF7ybf"
      }
    },
    {
      "cell_type": "code",
      "source": [
        "print(df.shape)\n",
        "print(df.info())\n",
        "df.head()"
      ],
      "metadata": {
        "execution": {
          "iopub.status.busy": "2024-02-18T05:33:11.442057Z",
          "iopub.execute_input": "2024-02-18T05:33:11.442514Z",
          "iopub.status.idle": "2024-02-18T05:33:11.497675Z",
          "shell.execute_reply.started": "2024-02-18T05:33:11.442469Z",
          "shell.execute_reply": "2024-02-18T05:33:11.496494Z"
        },
        "trusted": true,
        "colab": {
          "base_uri": "https://localhost:8080/",
          "height": 640
        },
        "id": "th6bOVPk7ybf",
        "outputId": "3763353d-734c-4818-f820-a8ef56da02a7"
      },
      "execution_count": 36,
      "outputs": [
        {
          "output_type": "stream",
          "name": "stdout",
          "text": [
            "(32296, 10)\n",
            "<class 'pandas.core.frame.DataFrame'>\n",
            "Index: 32296 entries, 0 to 4814\n",
            "Data columns (total 10 columns):\n",
            " #   Column            Non-Null Count  Dtype  \n",
            "---  ------            --------------  -----  \n",
            " 0   textID            31015 non-null  object \n",
            " 1   text              31014 non-null  object \n",
            " 2   selected_text     27480 non-null  object \n",
            " 3   sentiment         31015 non-null  object \n",
            " 4   Time of Tweet     31015 non-null  object \n",
            " 5   Age of User       31015 non-null  object \n",
            " 6   Country           31015 non-null  object \n",
            " 7   Population -2020  31015 non-null  float64\n",
            " 8   Land Area (Km²)   31015 non-null  float64\n",
            " 9   Density (P/Km²)   31015 non-null  float64\n",
            "dtypes: float64(3), object(7)\n",
            "memory usage: 2.7+ MB\n",
            "None\n"
          ]
        },
        {
          "output_type": "execute_result",
          "data": {
            "text/plain": [
              "       textID                                               text  \\\n",
              "0  cb774db0d1                I`d have responded, if I were going   \n",
              "1  549e992a42      Sooo SAD I will miss you here in San Diego!!!   \n",
              "2  088c60f138                          my boss is bullying me...   \n",
              "3  9642c003ef                     what interview! leave me alone   \n",
              "4  358bd9e861   Sons of ****, why couldn`t they put them on t...   \n",
              "\n",
              "                         selected_text sentiment Time of Tweet Age of User  \\\n",
              "0  I`d have responded, if I were going   neutral       morning        0-20   \n",
              "1                             Sooo SAD  negative          noon       21-30   \n",
              "2                          bullying me  negative         night       31-45   \n",
              "3                       leave me alone  negative       morning       46-60   \n",
              "4                        Sons of ****,  negative          noon       60-70   \n",
              "\n",
              "       Country  Population -2020  Land Area (Km²)  Density (P/Km²)  \n",
              "0  Afghanistan        38928346.0         652860.0             60.0  \n",
              "1      Albania         2877797.0          27400.0            105.0  \n",
              "2      Algeria        43851044.0        2381740.0             18.0  \n",
              "3      Andorra           77265.0            470.0            164.0  \n",
              "4       Angola        32866272.0        1246700.0             26.0  "
            ],
            "text/html": [
              "\n",
              "  <div id=\"df-4340ba68-515e-42c4-9921-4eee1682ef7d\" class=\"colab-df-container\">\n",
              "    <div>\n",
              "<style scoped>\n",
              "    .dataframe tbody tr th:only-of-type {\n",
              "        vertical-align: middle;\n",
              "    }\n",
              "\n",
              "    .dataframe tbody tr th {\n",
              "        vertical-align: top;\n",
              "    }\n",
              "\n",
              "    .dataframe thead th {\n",
              "        text-align: right;\n",
              "    }\n",
              "</style>\n",
              "<table border=\"1\" class=\"dataframe\">\n",
              "  <thead>\n",
              "    <tr style=\"text-align: right;\">\n",
              "      <th></th>\n",
              "      <th>textID</th>\n",
              "      <th>text</th>\n",
              "      <th>selected_text</th>\n",
              "      <th>sentiment</th>\n",
              "      <th>Time of Tweet</th>\n",
              "      <th>Age of User</th>\n",
              "      <th>Country</th>\n",
              "      <th>Population -2020</th>\n",
              "      <th>Land Area (Km²)</th>\n",
              "      <th>Density (P/Km²)</th>\n",
              "    </tr>\n",
              "  </thead>\n",
              "  <tbody>\n",
              "    <tr>\n",
              "      <th>0</th>\n",
              "      <td>cb774db0d1</td>\n",
              "      <td>I`d have responded, if I were going</td>\n",
              "      <td>I`d have responded, if I were going</td>\n",
              "      <td>neutral</td>\n",
              "      <td>morning</td>\n",
              "      <td>0-20</td>\n",
              "      <td>Afghanistan</td>\n",
              "      <td>38928346.0</td>\n",
              "      <td>652860.0</td>\n",
              "      <td>60.0</td>\n",
              "    </tr>\n",
              "    <tr>\n",
              "      <th>1</th>\n",
              "      <td>549e992a42</td>\n",
              "      <td>Sooo SAD I will miss you here in San Diego!!!</td>\n",
              "      <td>Sooo SAD</td>\n",
              "      <td>negative</td>\n",
              "      <td>noon</td>\n",
              "      <td>21-30</td>\n",
              "      <td>Albania</td>\n",
              "      <td>2877797.0</td>\n",
              "      <td>27400.0</td>\n",
              "      <td>105.0</td>\n",
              "    </tr>\n",
              "    <tr>\n",
              "      <th>2</th>\n",
              "      <td>088c60f138</td>\n",
              "      <td>my boss is bullying me...</td>\n",
              "      <td>bullying me</td>\n",
              "      <td>negative</td>\n",
              "      <td>night</td>\n",
              "      <td>31-45</td>\n",
              "      <td>Algeria</td>\n",
              "      <td>43851044.0</td>\n",
              "      <td>2381740.0</td>\n",
              "      <td>18.0</td>\n",
              "    </tr>\n",
              "    <tr>\n",
              "      <th>3</th>\n",
              "      <td>9642c003ef</td>\n",
              "      <td>what interview! leave me alone</td>\n",
              "      <td>leave me alone</td>\n",
              "      <td>negative</td>\n",
              "      <td>morning</td>\n",
              "      <td>46-60</td>\n",
              "      <td>Andorra</td>\n",
              "      <td>77265.0</td>\n",
              "      <td>470.0</td>\n",
              "      <td>164.0</td>\n",
              "    </tr>\n",
              "    <tr>\n",
              "      <th>4</th>\n",
              "      <td>358bd9e861</td>\n",
              "      <td>Sons of ****, why couldn`t they put them on t...</td>\n",
              "      <td>Sons of ****,</td>\n",
              "      <td>negative</td>\n",
              "      <td>noon</td>\n",
              "      <td>60-70</td>\n",
              "      <td>Angola</td>\n",
              "      <td>32866272.0</td>\n",
              "      <td>1246700.0</td>\n",
              "      <td>26.0</td>\n",
              "    </tr>\n",
              "  </tbody>\n",
              "</table>\n",
              "</div>\n",
              "    <div class=\"colab-df-buttons\">\n",
              "\n",
              "  <div class=\"colab-df-container\">\n",
              "    <button class=\"colab-df-convert\" onclick=\"convertToInteractive('df-4340ba68-515e-42c4-9921-4eee1682ef7d')\"\n",
              "            title=\"Convert this dataframe to an interactive table.\"\n",
              "            style=\"display:none;\">\n",
              "\n",
              "  <svg xmlns=\"http://www.w3.org/2000/svg\" height=\"24px\" viewBox=\"0 -960 960 960\">\n",
              "    <path d=\"M120-120v-720h720v720H120Zm60-500h600v-160H180v160Zm220 220h160v-160H400v160Zm0 220h160v-160H400v160ZM180-400h160v-160H180v160Zm440 0h160v-160H620v160ZM180-180h160v-160H180v160Zm440 0h160v-160H620v160Z\"/>\n",
              "  </svg>\n",
              "    </button>\n",
              "\n",
              "  <style>\n",
              "    .colab-df-container {\n",
              "      display:flex;\n",
              "      gap: 12px;\n",
              "    }\n",
              "\n",
              "    .colab-df-convert {\n",
              "      background-color: #E8F0FE;\n",
              "      border: none;\n",
              "      border-radius: 50%;\n",
              "      cursor: pointer;\n",
              "      display: none;\n",
              "      fill: #1967D2;\n",
              "      height: 32px;\n",
              "      padding: 0 0 0 0;\n",
              "      width: 32px;\n",
              "    }\n",
              "\n",
              "    .colab-df-convert:hover {\n",
              "      background-color: #E2EBFA;\n",
              "      box-shadow: 0px 1px 2px rgba(60, 64, 67, 0.3), 0px 1px 3px 1px rgba(60, 64, 67, 0.15);\n",
              "      fill: #174EA6;\n",
              "    }\n",
              "\n",
              "    .colab-df-buttons div {\n",
              "      margin-bottom: 4px;\n",
              "    }\n",
              "\n",
              "    [theme=dark] .colab-df-convert {\n",
              "      background-color: #3B4455;\n",
              "      fill: #D2E3FC;\n",
              "    }\n",
              "\n",
              "    [theme=dark] .colab-df-convert:hover {\n",
              "      background-color: #434B5C;\n",
              "      box-shadow: 0px 1px 3px 1px rgba(0, 0, 0, 0.15);\n",
              "      filter: drop-shadow(0px 1px 2px rgba(0, 0, 0, 0.3));\n",
              "      fill: #FFFFFF;\n",
              "    }\n",
              "  </style>\n",
              "\n",
              "    <script>\n",
              "      const buttonEl =\n",
              "        document.querySelector('#df-4340ba68-515e-42c4-9921-4eee1682ef7d button.colab-df-convert');\n",
              "      buttonEl.style.display =\n",
              "        google.colab.kernel.accessAllowed ? 'block' : 'none';\n",
              "\n",
              "      async function convertToInteractive(key) {\n",
              "        const element = document.querySelector('#df-4340ba68-515e-42c4-9921-4eee1682ef7d');\n",
              "        const dataTable =\n",
              "          await google.colab.kernel.invokeFunction('convertToInteractive',\n",
              "                                                    [key], {});\n",
              "        if (!dataTable) return;\n",
              "\n",
              "        const docLinkHtml = 'Like what you see? Visit the ' +\n",
              "          '<a target=\"_blank\" href=https://colab.research.google.com/notebooks/data_table.ipynb>data table notebook</a>'\n",
              "          + ' to learn more about interactive tables.';\n",
              "        element.innerHTML = '';\n",
              "        dataTable['output_type'] = 'display_data';\n",
              "        await google.colab.output.renderOutput(dataTable, element);\n",
              "        const docLink = document.createElement('div');\n",
              "        docLink.innerHTML = docLinkHtml;\n",
              "        element.appendChild(docLink);\n",
              "      }\n",
              "    </script>\n",
              "  </div>\n",
              "\n",
              "\n",
              "<div id=\"df-258a122d-5095-4b77-b20f-2f2ecdc353d3\">\n",
              "  <button class=\"colab-df-quickchart\" onclick=\"quickchart('df-258a122d-5095-4b77-b20f-2f2ecdc353d3')\"\n",
              "            title=\"Suggest charts\"\n",
              "            style=\"display:none;\">\n",
              "\n",
              "<svg xmlns=\"http://www.w3.org/2000/svg\" height=\"24px\"viewBox=\"0 0 24 24\"\n",
              "     width=\"24px\">\n",
              "    <g>\n",
              "        <path d=\"M19 3H5c-1.1 0-2 .9-2 2v14c0 1.1.9 2 2 2h14c1.1 0 2-.9 2-2V5c0-1.1-.9-2-2-2zM9 17H7v-7h2v7zm4 0h-2V7h2v10zm4 0h-2v-4h2v4z\"/>\n",
              "    </g>\n",
              "</svg>\n",
              "  </button>\n",
              "\n",
              "<style>\n",
              "  .colab-df-quickchart {\n",
              "      --bg-color: #E8F0FE;\n",
              "      --fill-color: #1967D2;\n",
              "      --hover-bg-color: #E2EBFA;\n",
              "      --hover-fill-color: #174EA6;\n",
              "      --disabled-fill-color: #AAA;\n",
              "      --disabled-bg-color: #DDD;\n",
              "  }\n",
              "\n",
              "  [theme=dark] .colab-df-quickchart {\n",
              "      --bg-color: #3B4455;\n",
              "      --fill-color: #D2E3FC;\n",
              "      --hover-bg-color: #434B5C;\n",
              "      --hover-fill-color: #FFFFFF;\n",
              "      --disabled-bg-color: #3B4455;\n",
              "      --disabled-fill-color: #666;\n",
              "  }\n",
              "\n",
              "  .colab-df-quickchart {\n",
              "    background-color: var(--bg-color);\n",
              "    border: none;\n",
              "    border-radius: 50%;\n",
              "    cursor: pointer;\n",
              "    display: none;\n",
              "    fill: var(--fill-color);\n",
              "    height: 32px;\n",
              "    padding: 0;\n",
              "    width: 32px;\n",
              "  }\n",
              "\n",
              "  .colab-df-quickchart:hover {\n",
              "    background-color: var(--hover-bg-color);\n",
              "    box-shadow: 0 1px 2px rgba(60, 64, 67, 0.3), 0 1px 3px 1px rgba(60, 64, 67, 0.15);\n",
              "    fill: var(--button-hover-fill-color);\n",
              "  }\n",
              "\n",
              "  .colab-df-quickchart-complete:disabled,\n",
              "  .colab-df-quickchart-complete:disabled:hover {\n",
              "    background-color: var(--disabled-bg-color);\n",
              "    fill: var(--disabled-fill-color);\n",
              "    box-shadow: none;\n",
              "  }\n",
              "\n",
              "  .colab-df-spinner {\n",
              "    border: 2px solid var(--fill-color);\n",
              "    border-color: transparent;\n",
              "    border-bottom-color: var(--fill-color);\n",
              "    animation:\n",
              "      spin 1s steps(1) infinite;\n",
              "  }\n",
              "\n",
              "  @keyframes spin {\n",
              "    0% {\n",
              "      border-color: transparent;\n",
              "      border-bottom-color: var(--fill-color);\n",
              "      border-left-color: var(--fill-color);\n",
              "    }\n",
              "    20% {\n",
              "      border-color: transparent;\n",
              "      border-left-color: var(--fill-color);\n",
              "      border-top-color: var(--fill-color);\n",
              "    }\n",
              "    30% {\n",
              "      border-color: transparent;\n",
              "      border-left-color: var(--fill-color);\n",
              "      border-top-color: var(--fill-color);\n",
              "      border-right-color: var(--fill-color);\n",
              "    }\n",
              "    40% {\n",
              "      border-color: transparent;\n",
              "      border-right-color: var(--fill-color);\n",
              "      border-top-color: var(--fill-color);\n",
              "    }\n",
              "    60% {\n",
              "      border-color: transparent;\n",
              "      border-right-color: var(--fill-color);\n",
              "    }\n",
              "    80% {\n",
              "      border-color: transparent;\n",
              "      border-right-color: var(--fill-color);\n",
              "      border-bottom-color: var(--fill-color);\n",
              "    }\n",
              "    90% {\n",
              "      border-color: transparent;\n",
              "      border-bottom-color: var(--fill-color);\n",
              "    }\n",
              "  }\n",
              "</style>\n",
              "\n",
              "  <script>\n",
              "    async function quickchart(key) {\n",
              "      const quickchartButtonEl =\n",
              "        document.querySelector('#' + key + ' button');\n",
              "      quickchartButtonEl.disabled = true;  // To prevent multiple clicks.\n",
              "      quickchartButtonEl.classList.add('colab-df-spinner');\n",
              "      try {\n",
              "        const charts = await google.colab.kernel.invokeFunction(\n",
              "            'suggestCharts', [key], {});\n",
              "      } catch (error) {\n",
              "        console.error('Error during call to suggestCharts:', error);\n",
              "      }\n",
              "      quickchartButtonEl.classList.remove('colab-df-spinner');\n",
              "      quickchartButtonEl.classList.add('colab-df-quickchart-complete');\n",
              "    }\n",
              "    (() => {\n",
              "      let quickchartButtonEl =\n",
              "        document.querySelector('#df-258a122d-5095-4b77-b20f-2f2ecdc353d3 button');\n",
              "      quickchartButtonEl.style.display =\n",
              "        google.colab.kernel.accessAllowed ? 'block' : 'none';\n",
              "    })();\n",
              "  </script>\n",
              "</div>\n",
              "    </div>\n",
              "  </div>\n"
            ],
            "application/vnd.google.colaboratory.intrinsic+json": {
              "type": "dataframe",
              "variable_name": "df",
              "summary": "{\n  \"name\": \"df\",\n  \"rows\": 32296,\n  \"fields\": [\n    {\n      \"column\": \"textID\",\n      \"properties\": {\n        \"dtype\": \"string\",\n        \"num_unique_values\": 31015,\n        \"samples\": [\n          \"de78baa02c\",\n          \"b0794b5a7e\",\n          \"ed036f1d74\"\n        ],\n        \"semantic_type\": \"\",\n        \"description\": \"\"\n      }\n    },\n    {\n      \"column\": \"text\",\n      \"properties\": {\n        \"dtype\": \"string\",\n        \"num_unique_values\": 31014,\n        \"samples\": [\n          \" I was afraid you were going to say that.\",\n          \" part 2: social networking??.. there is even room for people\",\n          \"i miss the one who would do anything to spend 5 min with me... the one who used to say just tell me when and where\"\n        ],\n        \"semantic_type\": \"\",\n        \"description\": \"\"\n      }\n    },\n    {\n      \"column\": \"selected_text\",\n      \"properties\": {\n        \"dtype\": \"string\",\n        \"num_unique_values\": 22430,\n        \"samples\": [\n          \"that is why I drive a (teeny tiny) honda civic\",\n          \"Sorry...but, I bet they aren`t that bad...\",\n          \"yummy\"\n        ],\n        \"semantic_type\": \"\",\n        \"description\": \"\"\n      }\n    },\n    {\n      \"column\": \"sentiment\",\n      \"properties\": {\n        \"dtype\": \"category\",\n        \"num_unique_values\": 3,\n        \"samples\": [\n          \"neutral\",\n          \"negative\",\n          \"positive\"\n        ],\n        \"semantic_type\": \"\",\n        \"description\": \"\"\n      }\n    },\n    {\n      \"column\": \"Time of Tweet\",\n      \"properties\": {\n        \"dtype\": \"category\",\n        \"num_unique_values\": 3,\n        \"samples\": [\n          \"morning\",\n          \"noon\",\n          \"night\"\n        ],\n        \"semantic_type\": \"\",\n        \"description\": \"\"\n      }\n    },\n    {\n      \"column\": \"Age of User\",\n      \"properties\": {\n        \"dtype\": \"category\",\n        \"num_unique_values\": 6,\n        \"samples\": [\n          \"0-20\",\n          \"21-30\",\n          \"70-100\"\n        ],\n        \"semantic_type\": \"\",\n        \"description\": \"\"\n      }\n    },\n    {\n      \"column\": \"Country\",\n      \"properties\": {\n        \"dtype\": \"category\",\n        \"num_unique_values\": 195,\n        \"samples\": [\n          \"Philippines\",\n          \"Belgium\",\n          \"Sierra Leone\"\n        ],\n        \"semantic_type\": \"\",\n        \"description\": \"\"\n      }\n    },\n    {\n      \"column\": \"Population -2020\",\n      \"properties\": {\n        \"dtype\": \"number\",\n        \"std\": 150084504.4053449,\n        \"min\": 801.0,\n        \"max\": 1439323776.0,\n        \"num_unique_values\": 195,\n        \"samples\": [\n          109581078.0,\n          11589623.0,\n          7976983.0\n        ],\n        \"semantic_type\": \"\",\n        \"description\": \"\"\n      }\n    },\n    {\n      \"column\": \"Land Area (Km\\u00b2)\",\n      \"properties\": {\n        \"dtype\": \"number\",\n        \"std\": 1811038.6572147855,\n        \"min\": 0.0,\n        \"max\": 16376870.0,\n        \"num_unique_values\": 193,\n        \"samples\": [\n          2267050.0,\n          1280000.0,\n          100250.0\n        ],\n        \"semantic_type\": \"\",\n        \"description\": \"\"\n      }\n    },\n    {\n      \"column\": \"Density (P/Km\\u00b2)\",\n      \"properties\": {\n        \"dtype\": \"number\",\n        \"std\": 2008.4507293311128,\n        \"min\": 2.0,\n        \"max\": 26337.0,\n        \"num_unique_values\": 136,\n        \"samples\": [\n          400.0,\n          71.0,\n          331.0\n        ],\n        \"semantic_type\": \"\",\n        \"description\": \"\"\n      }\n    }\n  ]\n}"
            }
          },
          "metadata": {},
          "execution_count": 36
        }
      ]
    },
    {
      "cell_type": "markdown",
      "source": [
        "## Convert Data"
      ],
      "metadata": {
        "id": "BHEiLsEJ7ybf"
      }
    },
    {
      "cell_type": "code",
      "source": [
        "df.dropna(inplace=True)"
      ],
      "metadata": {
        "execution": {
          "iopub.status.busy": "2024-02-18T05:33:11.499195Z",
          "iopub.execute_input": "2024-02-18T05:33:11.499728Z",
          "iopub.status.idle": "2024-02-18T05:33:11.523541Z",
          "shell.execute_reply.started": "2024-02-18T05:33:11.499691Z",
          "shell.execute_reply": "2024-02-18T05:33:11.522533Z"
        },
        "trusted": true,
        "id": "r0OgZ95S7ybf"
      },
      "execution_count": 37,
      "outputs": []
    },
    {
      "cell_type": "code",
      "source": [
        "df['sentiment'].value_counts(normalize=True).plot(kind='bar');"
      ],
      "metadata": {
        "execution": {
          "iopub.status.busy": "2024-02-18T05:33:11.524558Z",
          "iopub.execute_input": "2024-02-18T05:33:11.524824Z",
          "iopub.status.idle": "2024-02-18T05:33:11.779117Z",
          "shell.execute_reply.started": "2024-02-18T05:33:11.524801Z",
          "shell.execute_reply": "2024-02-18T05:33:11.778078Z"
        },
        "trusted": true,
        "colab": {
          "base_uri": "https://localhost:8080/",
          "height": 496
        },
        "id": "mp_gF5zY7ybg",
        "outputId": "2d17ec5a-0875-48d4-ed90-4d81702f0b04"
      },
      "execution_count": 38,
      "outputs": [
        {
          "output_type": "display_data",
          "data": {
            "text/plain": [
              "<Figure size 640x480 with 1 Axes>"
            ],
            "image/png": "[encoded data removed]"
          },
          "metadata": {}
        }
      ]
    },
    {
      "cell_type": "code",
      "source": [
        "# Convert sentiment column to categorical variable\n",
        "df['sentiment'] = df['sentiment'].astype('category').cat.codes\n",
        "df['sentiment'].value_counts(normalize=True).plot(kind='bar');"
      ],
      "metadata": {
        "execution": {
          "iopub.status.busy": "2024-02-18T05:33:11.78041Z",
          "iopub.execute_input": "2024-02-18T05:33:11.780805Z",
          "iopub.status.idle": "2024-02-18T05:33:11.976135Z",
          "shell.execute_reply.started": "2024-02-18T05:33:11.780769Z",
          "shell.execute_reply": "2024-02-18T05:33:11.975178Z"
        },
        "trusted": true,
        "colab": {
          "base_uri": "https://localhost:8080/",
          "height": 444
        },
        "id": "uIdjQIh07ybg",
        "outputId": "09252647-e836-4699-80bd-ea6f26c03185"
      },
      "execution_count": 39,
      "outputs": [
        {
          "output_type": "display_data",
          "data": {
            "text/plain": [
              "<Figure size 640x480 with 1 Axes>"
            ],
            "image/png": "[encoded data removed]"
          },
          "metadata": {}
        }
      ]
    },
    {
      "cell_type": "code",
      "source": [
        "# Convert Time of Tweet column to categorical variable\n",
        "df['Time of Tweet'] = df['Time of Tweet'].astype('category').cat.codes\n",
        "# Convert Country column to categorical variable\n",
        "df['Country'] = df['Country'].astype('category').cat.codes\n",
        "# convert Age of User to integer\n",
        "df['Age of User']=df['Age of User'].replace({'0-20':18,'21-30':25,'31-45':38,'46-60':53,'60-70':65,'70-100':80})"
      ],
      "metadata": {
        "execution": {
          "iopub.status.busy": "2024-02-18T05:33:11.977325Z",
          "iopub.execute_input": "2024-02-18T05:33:11.97789Z",
          "iopub.status.idle": "2024-02-18T05:33:12.007003Z",
          "shell.execute_reply.started": "2024-02-18T05:33:11.977855Z",
          "shell.execute_reply": "2024-02-18T05:33:12.00575Z"
        },
        "trusted": true,
        "id": "pBhxa2777ybg"
      },
      "execution_count": 40,
      "outputs": []
    },
    {
      "cell_type": "markdown",
      "source": [
        "## Drop unuseful data"
      ],
      "metadata": {
        "id": "URwGQJ2p7ybg"
      }
    },
    {
      "cell_type": "code",
      "source": [
        "df.info()"
      ],
      "metadata": {
        "execution": {
          "iopub.status.busy": "2024-02-18T05:33:12.008043Z",
          "iopub.execute_input": "2024-02-18T05:33:12.009183Z",
          "iopub.status.idle": "2024-02-18T05:33:12.031185Z",
          "shell.execute_reply.started": "2024-02-18T05:33:12.009149Z",
          "shell.execute_reply": "2024-02-18T05:33:12.029143Z"
        },
        "trusted": true,
        "colab": {
          "base_uri": "https://localhost:8080/"
        },
        "id": "XGCUQwJ27ybg",
        "outputId": "6623e23b-c087-4d0b-8164-0ffb05e63f6e"
      },
      "execution_count": 41,
      "outputs": [
        {
          "output_type": "stream",
          "name": "stdout",
          "text": [
            "<class 'pandas.core.frame.DataFrame'>\n",
            "Index: 27480 entries, 0 to 27480\n",
            "Data columns (total 10 columns):\n",
            " #   Column            Non-Null Count  Dtype  \n",
            "---  ------            --------------  -----  \n",
            " 0   textID            27480 non-null  object \n",
            " 1   text              27480 non-null  object \n",
            " 2   selected_text     27480 non-null  object \n",
            " 3   sentiment         27480 non-null  int8   \n",
            " 4   Time of Tweet     27480 non-null  int8   \n",
            " 5   Age of User       27480 non-null  int64  \n",
            " 6   Country           27480 non-null  int16  \n",
            " 7   Population -2020  27480 non-null  float64\n",
            " 8   Land Area (Km²)   27480 non-null  float64\n",
            " 9   Density (P/Km²)   27480 non-null  float64\n",
            "dtypes: float64(3), int16(1), int64(1), int8(2), object(3)\n",
            "memory usage: 1.8+ MB\n"
          ]
        }
      ]
    },
    {
      "cell_type": "code",
      "source": [
        "df.drop(columns=['textID','Time of Tweet', 'Age of User', 'Country', 'Population -2020', 'Land Area (Km²)', 'Density (P/Km²)'])"
      ],
      "metadata": {
        "execution": {
          "iopub.status.busy": "2024-02-18T05:34:31.885219Z",
          "iopub.execute_input": "2024-02-18T05:34:31.885604Z",
          "iopub.status.idle": "2024-02-18T05:34:31.902842Z",
          "shell.execute_reply.started": "2024-02-18T05:34:31.885575Z",
          "shell.execute_reply": "2024-02-18T05:34:31.901237Z"
        },
        "trusted": true,
        "colab": {
          "base_uri": "https://localhost:8080/",
          "height": 423
        },
        "id": "GmsL6LpK7ybg",
        "outputId": "b698f518-939f-456c-dc5c-485d66862cdd"
      },
      "execution_count": 42,
      "outputs": [
        {
          "output_type": "execute_result",
          "data": {
            "text/plain": [
              "                                                    text  \\\n",
              "0                    I`d have responded, if I were going   \n",
              "1          Sooo SAD I will miss you here in San Diego!!!   \n",
              "2                              my boss is bullying me...   \n",
              "3                         what interview! leave me alone   \n",
              "4       Sons of ****, why couldn`t they put them on t...   \n",
              "...                                                  ...   \n",
              "27476   wish we could come see u on Denver  husband l...   \n",
              "27477   I`ve wondered about rake to.  The client has ...   \n",
              "27478   Yay good for both of you. Enjoy the break - y...   \n",
              "27479                         But it was worth it  ****.   \n",
              "27480     All this flirting going on - The ATG smiles...   \n",
              "\n",
              "                                           selected_text  sentiment  \n",
              "0                    I`d have responded, if I were going          1  \n",
              "1                                               Sooo SAD          0  \n",
              "2                                            bullying me          0  \n",
              "3                                         leave me alone          0  \n",
              "4                                          Sons of ****,          0  \n",
              "...                                                  ...        ...  \n",
              "27476                                             d lost          0  \n",
              "27477                                      , don`t force          0  \n",
              "27478                          Yay good for both of you.          2  \n",
              "27479                         But it was worth it  ****.          2  \n",
              "27480  All this flirting going on - The ATG smiles. Y...          1  \n",
              "\n",
              "[27480 rows x 3 columns]"
            ],
            "text/html": [
              "\n",
              "  <div id=\"df-bde91138-ce3b-4265-9520-25ded438fb18\" class=\"colab-df-container\">\n",
              "    <div>\n",
              "<style scoped>\n",
              "    .dataframe tbody tr th:only-of-type {\n",
              "        vertical-align: middle;\n",
              "    }\n",
              "\n",
              "    .dataframe tbody tr th {\n",
              "        vertical-align: top;\n",
              "    }\n",
              "\n",
              "    .dataframe thead th {\n",
              "        text-align: right;\n",
              "    }\n",
              "</style>\n",
              "<table border=\"1\" class=\"dataframe\">\n",
              "  <thead>\n",
              "    <tr style=\"text-align: right;\">\n",
              "      <th></th>\n",
              "      <th>text</th>\n",
              "      <th>selected_text</th>\n",
              "      <th>sentiment</th>\n",
              "    </tr>\n",
              "  </thead>\n",
              "  <tbody>\n",
              "    <tr>\n",
              "      <th>0</th>\n",
              "      <td>I`d have responded, if I were going</td>\n",
              "      <td>I`d have responded, if I were going</td>\n",
              "      <td>1</td>\n",
              "    </tr>\n",
              "    <tr>\n",
              "      <th>1</th>\n",
              "      <td>Sooo SAD I will miss you here in San Diego!!!</td>\n",
              "      <td>Sooo SAD</td>\n",
              "      <td>0</td>\n",
              "    </tr>\n",
              "    <tr>\n",
              "      <th>2</th>\n",
              "      <td>my boss is bullying me...</td>\n",
              "      <td>bullying me</td>\n",
              "      <td>0</td>\n",
              "    </tr>\n",
              "    <tr>\n",
              "      <th>3</th>\n",
              "      <td>what interview! leave me alone</td>\n",
              "      <td>leave me alone</td>\n",
              "      <td>0</td>\n",
              "    </tr>\n",
              "    <tr>\n",
              "      <th>4</th>\n",
              "      <td>Sons of ****, why couldn`t they put them on t...</td>\n",
              "      <td>Sons of ****,</td>\n",
              "      <td>0</td>\n",
              "    </tr>\n",
              "    <tr>\n",
              "      <th>...</th>\n",
              "      <td>...</td>\n",
              "      <td>...</td>\n",
              "      <td>...</td>\n",
              "    </tr>\n",
              "    <tr>\n",
              "      <th>27476</th>\n",
              "      <td>wish we could come see u on Denver  husband l...</td>\n",
              "      <td>d lost</td>\n",
              "      <td>0</td>\n",
              "    </tr>\n",
              "    <tr>\n",
              "      <th>27477</th>\n",
              "      <td>I`ve wondered about rake to.  The client has ...</td>\n",
              "      <td>, don`t force</td>\n",
              "      <td>0</td>\n",
              "    </tr>\n",
              "    <tr>\n",
              "      <th>27478</th>\n",
              "      <td>Yay good for both of you. Enjoy the break - y...</td>\n",
              "      <td>Yay good for both of you.</td>\n",
              "      <td>2</td>\n",
              "    </tr>\n",
              "    <tr>\n",
              "      <th>27479</th>\n",
              "      <td>But it was worth it  ****.</td>\n",
              "      <td>But it was worth it  ****.</td>\n",
              "      <td>2</td>\n",
              "    </tr>\n",
              "    <tr>\n",
              "      <th>27480</th>\n",
              "      <td>All this flirting going on - The ATG smiles...</td>\n",
              "      <td>All this flirting going on - The ATG smiles. Y...</td>\n",
              "      <td>1</td>\n",
              "    </tr>\n",
              "  </tbody>\n",
              "</table>\n",
              "<p>27480 rows × 3 columns</p>\n",
              "</div>\n",
              "    <div class=\"colab-df-buttons\">\n",
              "\n",
              "  <div class=\"colab-df-container\">\n",
              "    <button class=\"colab-df-convert\" onclick=\"convertToInteractive('df-bde91138-ce3b-4265-9520-25ded438fb18')\"\n",
              "            title=\"Convert this dataframe to an interactive table.\"\n",
              "            style=\"display:none;\">\n",
              "\n",
              "  <svg xmlns=\"http://www.w3.org/2000/svg\" height=\"24px\" viewBox=\"0 -960 960 960\">\n",
              "    <path d=\"M120-120v-720h720v720H120Zm60-500h600v-160H180v160Zm220 220h160v-160H400v160Zm0 220h160v-160H400v160ZM180-400h160v-160H180v160Zm440 0h160v-160H620v160ZM180-180h160v-160H180v160Zm440 0h160v-160H620v160Z\"/>\n",
              "  </svg>\n",
              "    </button>\n",
              "\n",
              "  <style>\n",
              "    .colab-df-container {\n",
              "      display:flex;\n",
              "      gap: 12px;\n",
              "    }\n",
              "\n",
              "    .colab-df-convert {\n",
              "      background-color: #E8F0FE;\n",
              "      border: none;\n",
              "      border-radius: 50%;\n",
              "      cursor: pointer;\n",
              "      display: none;\n",
              "      fill: #1967D2;\n",
              "      height: 32px;\n",
              "      padding: 0 0 0 0;\n",
              "      width: 32px;\n",
              "    }\n",
              "\n",
              "    .colab-df-convert:hover {\n",
              "      background-color: #E2EBFA;\n",
              "      box-shadow: 0px 1px 2px rgba(60, 64, 67, 0.3), 0px 1px 3px 1px rgba(60, 64, 67, 0.15);\n",
              "      fill: #174EA6;\n",
              "    }\n",
              "\n",
              "    .colab-df-buttons div {\n",
              "      margin-bottom: 4px;\n",
              "    }\n",
              "\n",
              "    [theme=dark] .colab-df-convert {\n",
              "      background-color: #3B4455;\n",
              "      fill: #D2E3FC;\n",
              "    }\n",
              "\n",
              "    [theme=dark] .colab-df-convert:hover {\n",
              "      background-color: #434B5C;\n",
              "      box-shadow: 0px 1px 3px 1px rgba(0, 0, 0, 0.15);\n",
              "      filter: drop-shadow(0px 1px 2px rgba(0, 0, 0, 0.3));\n",
              "      fill: #FFFFFF;\n",
              "    }\n",
              "  </style>\n",
              "\n",
              "    <script>\n",
              "      const buttonEl =\n",
              "        document.querySelector('#df-bde91138-ce3b-4265-9520-25ded438fb18 button.colab-df-convert');\n",
              "      buttonEl.style.display =\n",
              "        google.colab.kernel.accessAllowed ? 'block' : 'none';\n",
              "\n",
              "      async function convertToInteractive(key) {\n",
              "        const element = document.querySelector('#df-bde91138-ce3b-4265-9520-25ded438fb18');\n",
              "        const dataTable =\n",
              "          await google.colab.kernel.invokeFunction('convertToInteractive',\n",
              "                                                    [key], {});\n",
              "        if (!dataTable) return;\n",
              "\n",
              "        const docLinkHtml = 'Like what you see? Visit the ' +\n",
              "          '<a target=\"_blank\" href=https://colab.research.google.com/notebooks/data_table.ipynb>data table notebook</a>'\n",
              "          + ' to learn more about interactive tables.';\n",
              "        element.innerHTML = '';\n",
              "        dataTable['output_type'] = 'display_data';\n",
              "        await google.colab.output.renderOutput(dataTable, element);\n",
              "        const docLink = document.createElement('div');\n",
              "        docLink.innerHTML = docLinkHtml;\n",
              "        element.appendChild(docLink);\n",
              "      }\n",
              "    </script>\n",
              "  </div>\n",
              "\n",
              "\n",
              "<div id=\"df-9160594d-1a7d-433b-a189-677f0e427916\">\n",
              "  <button class=\"colab-df-quickchart\" onclick=\"quickchart('df-9160594d-1a7d-433b-a189-677f0e427916')\"\n",
              "            title=\"Suggest charts\"\n",
              "            style=\"display:none;\">\n",
              "\n",
              "<svg xmlns=\"http://www.w3.org/2000/svg\" height=\"24px\"viewBox=\"0 0 24 24\"\n",
              "     width=\"24px\">\n",
              "    <g>\n",
              "        <path d=\"M19 3H5c-1.1 0-2 .9-2 2v14c0 1.1.9 2 2 2h14c1.1 0 2-.9 2-2V5c0-1.1-.9-2-2-2zM9 17H7v-7h2v7zm4 0h-2V7h2v10zm4 0h-2v-4h2v4z\"/>\n",
              "    </g>\n",
              "</svg>\n",
              "  </button>\n",
              "\n",
              "<style>\n",
              "  .colab-df-quickchart {\n",
              "      --bg-color: #E8F0FE;\n",
              "      --fill-color: #1967D2;\n",
              "      --hover-bg-color: #E2EBFA;\n",
              "      --hover-fill-color: #174EA6;\n",
              "      --disabled-fill-color: #AAA;\n",
              "      --disabled-bg-color: #DDD;\n",
              "  }\n",
              "\n",
              "  [theme=dark] .colab-df-quickchart {\n",
              "      --bg-color: #3B4455;\n",
              "      --fill-color: #D2E3FC;\n",
              "      --hover-bg-color: #434B5C;\n",
              "      --hover-fill-color: #FFFFFF;\n",
              "      --disabled-bg-color: #3B4455;\n",
              "      --disabled-fill-color: #666;\n",
              "  }\n",
              "\n",
              "  .colab-df-quickchart {\n",
              "    background-color: var(--bg-color);\n",
              "    border: none;\n",
              "    border-radius: 50%;\n",
              "    cursor: pointer;\n",
              "    display: none;\n",
              "    fill: var(--fill-color);\n",
              "    height: 32px;\n",
              "    padding: 0;\n",
              "    width: 32px;\n",
              "  }\n",
              "\n",
              "  .colab-df-quickchart:hover {\n",
              "    background-color: var(--hover-bg-color);\n",
              "    box-shadow: 0 1px 2px rgba(60, 64, 67, 0.3), 0 1px 3px 1px rgba(60, 64, 67, 0.15);\n",
              "    fill: var(--button-hover-fill-color);\n",
              "  }\n",
              "\n",
              "  .colab-df-quickchart-complete:disabled,\n",
              "  .colab-df-quickchart-complete:disabled:hover {\n",
              "    background-color: var(--disabled-bg-color);\n",
              "    fill: var(--disabled-fill-color);\n",
              "    box-shadow: none;\n",
              "  }\n",
              "\n",
              "  .colab-df-spinner {\n",
              "    border: 2px solid var(--fill-color);\n",
              "    border-color: transparent;\n",
              "    border-bottom-color: var(--fill-color);\n",
              "    animation:\n",
              "      spin 1s steps(1) infinite;\n",
              "  }\n",
              "\n",
              "  @keyframes spin {\n",
              "    0% {\n",
              "      border-color: transparent;\n",
              "      border-bottom-color: var(--fill-color);\n",
              "      border-left-color: var(--fill-color);\n",
              "    }\n",
              "    20% {\n",
              "      border-color: transparent;\n",
              "      border-left-color: var(--fill-color);\n",
              "      border-top-color: var(--fill-color);\n",
              "    }\n",
              "    30% {\n",
              "      border-color: transparent;\n",
              "      border-left-color: var(--fill-color);\n",
              "      border-top-color: var(--fill-color);\n",
              "      border-right-color: var(--fill-color);\n",
              "    }\n",
              "    40% {\n",
              "      border-color: transparent;\n",
              "      border-right-color: var(--fill-color);\n",
              "      border-top-color: var(--fill-color);\n",
              "    }\n",
              "    60% {\n",
              "      border-color: transparent;\n",
              "      border-right-color: var(--fill-color);\n",
              "    }\n",
              "    80% {\n",
              "      border-color: transparent;\n",
              "      border-right-color: var(--fill-color);\n",
              "      border-bottom-color: var(--fill-color);\n",
              "    }\n",
              "    90% {\n",
              "      border-color: transparent;\n",
              "      border-bottom-color: var(--fill-color);\n",
              "    }\n",
              "  }\n",
              "</style>\n",
              "\n",
              "  <script>\n",
              "    async function quickchart(key) {\n",
              "      const quickchartButtonEl =\n",
              "        document.querySelector('#' + key + ' button');\n",
              "      quickchartButtonEl.disabled = true;  // To prevent multiple clicks.\n",
              "      quickchartButtonEl.classList.add('colab-df-spinner');\n",
              "      try {\n",
              "        const charts = await google.colab.kernel.invokeFunction(\n",
              "            'suggestCharts', [key], {});\n",
              "      } catch (error) {\n",
              "        console.error('Error during call to suggestCharts:', error);\n",
              "      }\n",
              "      quickchartButtonEl.classList.remove('colab-df-spinner');\n",
              "      quickchartButtonEl.classList.add('colab-df-quickchart-complete');\n",
              "    }\n",
              "    (() => {\n",
              "      let quickchartButtonEl =\n",
              "        document.querySelector('#df-9160594d-1a7d-433b-a189-677f0e427916 button');\n",
              "      quickchartButtonEl.style.display =\n",
              "        google.colab.kernel.accessAllowed ? 'block' : 'none';\n",
              "    })();\n",
              "  </script>\n",
              "</div>\n",
              "    </div>\n",
              "  </div>\n"
            ],
            "application/vnd.google.colaboratory.intrinsic+json": {
              "type": "dataframe",
              "summary": "{\n  \"name\": \"df\",\n  \"rows\": 27480,\n  \"fields\": [\n    {\n      \"column\": \"text\",\n      \"properties\": {\n        \"dtype\": \"string\",\n        \"num_unique_values\": 27480,\n        \"samples\": [\n          \" Enjoy! Family trumps everything\",\n          \" --of them kinda turns me off of it all.  And then I buy more of them and dig a deeper hole, etc. ;;\",\n          \"Clive it`s my birthday pat me  http://apps.facebook.com/dogbook/profile/view/6386106\"\n        ],\n        \"semantic_type\": \"\",\n        \"description\": \"\"\n      }\n    },\n    {\n      \"column\": \"selected_text\",\n      \"properties\": {\n        \"dtype\": \"string\",\n        \"num_unique_values\": 22430,\n        \"samples\": [\n          \"that is why I drive a (teeny tiny) honda civic\",\n          \"Sorry...but, I bet they aren`t that bad...\",\n          \"yummy\"\n        ],\n        \"semantic_type\": \"\",\n        \"description\": \"\"\n      }\n    },\n    {\n      \"column\": \"sentiment\",\n      \"properties\": {\n        \"dtype\": \"int8\",\n        \"num_unique_values\": 3,\n        \"samples\": [\n          1,\n          0,\n          2\n        ],\n        \"semantic_type\": \"\",\n        \"description\": \"\"\n      }\n    }\n  ]\n}"
            }
          },
          "metadata": {},
          "execution_count": 42
        }
      ]
    },
    {
      "cell_type": "markdown",
      "source": [
        "## Creat a function to process text"
      ],
      "metadata": {
        "id": "aEx02TfE7ybh"
      }
    },
    {
      "cell_type": "code",
      "source": [
        "def wp(text):\n",
        "    text = text.lower()\n",
        "    text = re.sub('\\[.*?\\]', '', text)\n",
        "    text = re.sub(\"\\\\W\",\" \",text)\n",
        "    text = re.sub('https?://\\S+|www\\.\\S+', '', text)\n",
        "    text = re.sub('<.*?>+', '', text)\n",
        "    text = re.sub('[%s]' % re.escape(string.punctuation), '', text)\n",
        "    text = re.sub('\\n', '', text)\n",
        "    text = re.sub('\\w*\\d\\w*', '', text)\n",
        "    return text"
      ],
      "metadata": {
        "execution": {
          "iopub.status.busy": "2024-02-18T05:34:38.446304Z",
          "iopub.execute_input": "2024-02-18T05:34:38.446658Z",
          "iopub.status.idle": "2024-02-18T05:34:38.453916Z",
          "shell.execute_reply.started": "2024-02-18T05:34:38.446629Z",
          "shell.execute_reply": "2024-02-18T05:34:38.452092Z"
        },
        "trusted": true,
        "id": "dT7HKhFc7ybh"
      },
      "execution_count": 43,
      "outputs": []
    },
    {
      "cell_type": "code",
      "source": [
        "df['selected_text'] = df[\"selected_text\"].apply(wp)"
      ],
      "metadata": {
        "execution": {
          "iopub.status.busy": "2024-02-18T05:34:39.544798Z",
          "iopub.execute_input": "2024-02-18T05:34:39.545157Z",
          "iopub.status.idle": "2024-02-18T05:34:39.950213Z",
          "shell.execute_reply.started": "2024-02-18T05:34:39.545128Z",
          "shell.execute_reply": "2024-02-18T05:34:39.9495Z"
        },
        "trusted": true,
        "id": "o5V2J9VS7ybh"
      },
      "execution_count": 44,
      "outputs": []
    },
    {
      "cell_type": "markdown",
      "source": [
        "## Split data"
      ],
      "metadata": {
        "id": "tkyUgQpi7ybh"
      }
    },
    {
      "cell_type": "code",
      "source": [
        "X=df['selected_text']\n",
        "y= df['sentiment']"
      ],
      "metadata": {
        "execution": {
          "iopub.status.busy": "2024-02-18T05:34:56.110732Z",
          "iopub.execute_input": "2024-02-18T05:34:56.111096Z",
          "iopub.status.idle": "2024-02-18T05:34:56.116121Z",
          "shell.execute_reply.started": "2024-02-18T05:34:56.111067Z",
          "shell.execute_reply": "2024-02-18T05:34:56.114902Z"
        },
        "trusted": true,
        "id": "cgk7DsOe7ybh"
      },
      "execution_count": 45,
      "outputs": []
    },
    {
      "cell_type": "code",
      "source": [],
      "metadata": {
        "id": "QjA5o-0X7ybh"
      },
      "execution_count": 45,
      "outputs": []
    },
    {
      "cell_type": "code",
      "source": [
        "X_train, X_test, y_train, y_test = train_test_split(X,y,test_size=0.2,random_state=42)\n",
        "print(X_train.shape)\n",
        "print(X_test.shape)\n",
        "print(y_train.shape)\n",
        "print(y_test.shape)"
      ],
      "metadata": {
        "execution": {
          "iopub.status.busy": "2024-02-18T05:35:02.24053Z",
          "iopub.execute_input": "2024-02-18T05:35:02.240911Z",
          "iopub.status.idle": "2024-02-18T05:35:02.252732Z",
          "shell.execute_reply.started": "2024-02-18T05:35:02.240879Z",
          "shell.execute_reply": "2024-02-18T05:35:02.25118Z"
        },
        "trusted": true,
        "colab": {
          "base_uri": "https://localhost:8080/"
        },
        "id": "JDwk1RBa7ybh",
        "outputId": "ffccfc15-91fd-4480-8af7-f11f957b3de8"
      },
      "execution_count": 46,
      "outputs": [
        {
          "output_type": "stream",
          "name": "stdout",
          "text": [
            "(21984,)\n",
            "(5496,)\n",
            "(21984,)\n",
            "(5496,)\n"
          ]
        }
      ]
    },
    {
      "cell_type": "markdown",
      "source": [
        "## Convert text to vectors"
      ],
      "metadata": {
        "id": "zSN7UjeB7ybh"
      }
    },
    {
      "cell_type": "code",
      "source": [
        "vectorization = TfidfVectorizer()\n",
        "XV_train = vectorization.fit_transform(X_train)\n",
        "XV_test = vectorization.transform(X_test)"
      ],
      "metadata": {
        "execution": {
          "iopub.status.busy": "2024-02-18T05:35:26.385415Z",
          "iopub.execute_input": "2024-02-18T05:35:26.385775Z",
          "iopub.status.idle": "2024-02-18T05:35:26.642876Z",
          "shell.execute_reply.started": "2024-02-18T05:35:26.385749Z",
          "shell.execute_reply": "2024-02-18T05:35:26.641788Z"
        },
        "trusted": true,
        "id": "7aFpCdGu7ybh"
      },
      "execution_count": 47,
      "outputs": []
    },
    {
      "cell_type": "markdown",
      "source": [
        "## Logistic regression"
      ],
      "metadata": {
        "id": "46oRcrrX7ybh"
      }
    },
    {
      "cell_type": "code",
      "source": [
        "lr = LogisticRegression(n_jobs=-1)\n",
        "lr.fit(XV_train,y_train)"
      ],
      "metadata": {
        "execution": {
          "iopub.status.busy": "2024-02-18T05:35:33.595412Z",
          "iopub.execute_input": "2024-02-18T05:35:33.59609Z",
          "iopub.status.idle": "2024-02-18T05:35:35.48506Z",
          "shell.execute_reply.started": "2024-02-18T05:35:33.596055Z",
          "shell.execute_reply": "2024-02-18T05:35:35.483356Z"
        },
        "trusted": true,
        "colab": {
          "base_uri": "https://localhost:8080/",
          "height": 74
        },
        "id": "DB5FgySi7ybi",
        "outputId": "d842563f-65c0-48b7-d030-77a35d53f5ba"
      },
      "execution_count": 48,
      "outputs": [
        {
          "output_type": "execute_result",
          "data": {
            "text/plain": [
              "LogisticRegression(n_jobs=-1)"
            ],
            "text/html": [
              "<style>#sk-container-id-4 {color: black;background-color: white;}#sk-container-id-4 pre{padding: 0;}#sk-container-id-4 div.sk-toggleable {background-color: white;}#sk-container-id-4 label.sk-toggleable__label {cursor: pointer;display: block;width: 100%;margin-bottom: 0;padding: 0.3em;box-sizing: border-box;text-align: center;}#sk-container-id-4 label.sk-toggleable__label-arrow:before {content: \"▸\";float: left;margin-right: 0.25em;color: #696969;}#sk-container-id-4 label.sk-toggleable__label-arrow:hover:before {color: black;}#sk-container-id-4 div.sk-estimator:hover label.sk-toggleable__label-arrow:before {color: black;}#sk-container-id-4 div.sk-toggleable__content {max-height: 0;max-width: 0;overflow: hidden;text-align: left;background-color: #f0f8ff;}#sk-container-id-4 div.sk-toggleable__content pre {margin: 0.2em;color: black;border-radius: 0.25em;background-color: #f0f8ff;}#sk-container-id-4 input.sk-toggleable__control:checked~div.sk-toggleable__content {max-height: 200px;max-width: 100%;overflow: auto;}#sk-container-id-4 input.sk-toggleable__control:checked~label.sk-toggleable__label-arrow:before {content: \"▾\";}#sk-container-id-4 div.sk-estimator input.sk-toggleable__control:checked~label.sk-toggleable__label {background-color: #d4ebff;}#sk-container-id-4 div.sk-label input.sk-toggleable__control:checked~label.sk-toggleable__label {background-color: #d4ebff;}#sk-container-id-4 input.sk-hidden--visually {border: 0;clip: rect(1px 1px 1px 1px);clip: rect(1px, 1px, 1px, 1px);height: 1px;margin: -1px;overflow: hidden;padding: 0;position: absolute;width: 1px;}#sk-container-id-4 div.sk-estimator {font-family: monospace;background-color: #f0f8ff;border: 1px dotted black;border-radius: 0.25em;box-sizing: border-box;margin-bottom: 0.5em;}#sk-container-id-4 div.sk-estimator:hover {background-color: #d4ebff;}#sk-container-id-4 div.sk-parallel-item::after {content: \"\";width: 100%;border-bottom: 1px solid gray;flex-grow: 1;}#sk-container-id-4 div.sk-label:hover label.sk-toggleable__label {background-color: #d4ebff;}#sk-container-id-4 div.sk-serial::before {content: \"\";position: absolute;border-left: 1px solid gray;box-sizing: border-box;top: 0;bottom: 0;left: 50%;z-index: 0;}#sk-container-id-4 div.sk-serial {display: flex;flex-direction: column;align-items: center;background-color: white;padding-right: 0.2em;padding-left: 0.2em;position: relative;}#sk-container-id-4 div.sk-item {position: relative;z-index: 1;}#sk-container-id-4 div.sk-parallel {display: flex;align-items: stretch;justify-content: center;background-color: white;position: relative;}#sk-container-id-4 div.sk-item::before, #sk-container-id-4 div.sk-parallel-item::before {content: \"\";position: absolute;border-left: 1px solid gray;box-sizing: border-box;top: 0;bottom: 0;left: 50%;z-index: -1;}#sk-container-id-4 div.sk-parallel-item {display: flex;flex-direction: column;z-index: 1;position: relative;background-color: white;}#sk-container-id-4 div.sk-parallel-item:first-child::after {align-self: flex-end;width: 50%;}#sk-container-id-4 div.sk-parallel-item:last-child::after {align-self: flex-start;width: 50%;}#sk-container-id-4 div.sk-parallel-item:only-child::after {width: 0;}#sk-container-id-4 div.sk-dashed-wrapped {border: 1px dashed gray;margin: 0 0.4em 0.5em 0.4em;box-sizing: border-box;padding-bottom: 0.4em;background-color: white;}#sk-container-id-4 div.sk-label label {font-family: monospace;font-weight: bold;display: inline-block;line-height: 1.2em;}#sk-container-id-4 div.sk-label-container {text-align: center;}#sk-container-id-4 div.sk-container {/* jupyter's `normalize.less` sets `[hidden] { display: none; }` but bootstrap.min.css set `[hidden] { display: none !important; }` so we also need the `!important` here to be able to override the default hidden behavior on the sphinx rendered scikit-learn.org. See: https://github.com/scikit-learn/scikit-learn/issues/21755 */display: inline-block !important;position: relative;}#sk-container-id-4 div.sk-text-repr-fallback {display: none;}</style><div id=\"sk-container-id-4\" class=\"sk-top-container\"><div class=\"sk-text-repr-fallback\"><pre>LogisticRegression(n_jobs=-1)</pre><b>In a Jupyter environment, please rerun this cell to show the HTML representation or trust the notebook. <br />On GitHub, the HTML representation is unable to render, please try loading this page with nbviewer.org.</b></div><div class=\"sk-container\" hidden><div class=\"sk-item\"><div class=\"sk-estimator sk-toggleable\"><input class=\"sk-toggleable__control sk-hidden--visually\" id=\"sk-estimator-id-4\" type=\"checkbox\" checked><label for=\"sk-estimator-id-4\" class=\"sk-toggleable__label sk-toggleable__label-arrow\">LogisticRegression</label><div class=\"sk-toggleable__content\"><pre>LogisticRegression(n_jobs=-1)</pre></div></div></div></div></div>"
            ]
          },
          "metadata": {},
          "execution_count": 48
        }
      ]
    },
    {
      "cell_type": "code",
      "source": [
        "pred_lr=lr.predict(XV_test)"
      ],
      "metadata": {
        "execution": {
          "iopub.status.busy": "2024-02-18T05:35:36.765332Z",
          "iopub.execute_input": "2024-02-18T05:35:36.765728Z",
          "iopub.status.idle": "2024-02-18T05:35:36.772736Z",
          "shell.execute_reply.started": "2024-02-18T05:35:36.765694Z",
          "shell.execute_reply": "2024-02-18T05:35:36.7711Z"
        },
        "trusted": true,
        "id": "hNPJrhch7ybi"
      },
      "execution_count": 49,
      "outputs": []
    },
    {
      "cell_type": "code",
      "source": [
        "# get accuracy score\n",
        "score_lr = accuracy_score(y_test, pred_lr)\n",
        "score_lr"
      ],
      "metadata": {
        "execution": {
          "iopub.status.busy": "2024-02-18T05:35:37.840044Z",
          "iopub.execute_input": "2024-02-18T05:35:37.840429Z",
          "iopub.status.idle": "2024-02-18T05:35:37.849735Z",
          "shell.execute_reply.started": "2024-02-18T05:35:37.8404Z",
          "shell.execute_reply": "2024-02-18T05:35:37.848451Z"
        },
        "trusted": true,
        "colab": {
          "base_uri": "https://localhost:8080/"
        },
        "id": "hXkC3KVv7ybi",
        "outputId": "5860c1ac-c037-435e-973a-f40faa8a4a42"
      },
      "execution_count": 50,
      "outputs": [
        {
          "output_type": "execute_result",
          "data": {
            "text/plain": [
              "0.8309679767103348"
            ]
          },
          "metadata": {},
          "execution_count": 50
        }
      ]
    },
    {
      "cell_type": "code",
      "source": [
        "print(classification_report(y_test, pred_lr))"
      ],
      "metadata": {
        "execution": {
          "iopub.status.busy": "2024-02-18T05:35:38.996015Z",
          "iopub.execute_input": "2024-02-18T05:35:38.996413Z",
          "iopub.status.idle": "2024-02-18T05:35:39.016946Z",
          "shell.execute_reply.started": "2024-02-18T05:35:38.996381Z",
          "shell.execute_reply": "2024-02-18T05:35:39.01595Z"
        },
        "trusted": true,
        "colab": {
          "base_uri": "https://localhost:8080/"
        },
        "id": "-OV9nk9H7ybi",
        "outputId": "882bbebf-1e31-404a-cc9d-ba36f3e947ed"
      },
      "execution_count": 51,
      "outputs": [
        {
          "output_type": "stream",
          "name": "stdout",
          "text": [
            "              precision    recall  f1-score   support\n",
            "\n",
            "           0       0.81      0.79      0.80      1572\n",
            "           1       0.79      0.88      0.84      2236\n",
            "           2       0.91      0.81      0.85      1688\n",
            "\n",
            "    accuracy                           0.83      5496\n",
            "   macro avg       0.84      0.82      0.83      5496\n",
            "weighted avg       0.84      0.83      0.83      5496\n",
            "\n"
          ]
        }
      ]
    },
    {
      "cell_type": "code",
      "source": [
        "ConfusionMatrixDisplay.from_predictions(y_test, pred_lr);"
      ],
      "metadata": {
        "execution": {
          "iopub.status.busy": "2024-02-18T05:35:39.791191Z",
          "iopub.execute_input": "2024-02-18T05:35:39.791643Z",
          "iopub.status.idle": "2024-02-18T05:35:40.053437Z",
          "shell.execute_reply.started": "2024-02-18T05:35:39.791604Z",
          "shell.execute_reply": "2024-02-18T05:35:40.052093Z"
        },
        "trusted": true,
        "colab": {
          "base_uri": "https://localhost:8080/",
          "height": 449
        },
        "id": "wN2tBpox7ybi",
        "outputId": "f530ec5f-2e72-4191-ec10-ce8db1dccad8"
      },
      "execution_count": 52,
      "outputs": [
        {
          "output_type": "display_data",
          "data": {
            "text/plain": [
              "<Figure size 640x480 with 2 Axes>"
            ],
            "image/png": "[encoded data removed]"
          },
          "metadata": {}
        }
      ]
    },
    {
      "cell_type": "markdown",
      "source": [
        "## Decision Tree Classification"
      ],
      "metadata": {
        "execution": {
          "iopub.status.busy": "2024-01-01T16:53:49.287703Z",
          "iopub.execute_input": "2024-01-01T16:53:49.288224Z",
          "iopub.status.idle": "2024-01-01T16:53:49.295662Z",
          "shell.execute_reply.started": "2024-01-01T16:53:49.288188Z",
          "shell.execute_reply": "2024-01-01T16:53:49.29389Z"
        },
        "id": "vZ2gN47u7ybi"
      }
    },
    {
      "cell_type": "code",
      "source": [
        "dt = DecisionTreeClassifier()\n",
        "dt.fit(XV_train, y_train)"
      ],
      "metadata": {
        "execution": {
          "iopub.status.busy": "2024-02-18T05:35:41.380469Z",
          "iopub.execute_input": "2024-02-18T05:35:41.380923Z",
          "iopub.status.idle": "2024-02-18T05:35:45.103101Z",
          "shell.execute_reply.started": "2024-02-18T05:35:41.380886Z",
          "shell.execute_reply": "2024-02-18T05:35:45.101719Z"
        },
        "trusted": true,
        "colab": {
          "base_uri": "https://localhost:8080/",
          "height": 74
        },
        "id": "De6CiV2E7ybi",
        "outputId": "8dfcbc12-e117-4c41-f8e0-b56c29dd7d74"
      },
      "execution_count": 53,
      "outputs": [
        {
          "output_type": "execute_result",
          "data": {
            "text/plain": [
              "DecisionTreeClassifier()"
            ],
            "text/html": [
              "<style>#sk-container-id-5 {color: black;background-color: white;}#sk-container-id-5 pre{padding: 0;}#sk-container-id-5 div.sk-toggleable {background-color: white;}#sk-container-id-5 label.sk-toggleable__label {cursor: pointer;display: block;width: 100%;margin-bottom: 0;padding: 0.3em;box-sizing: border-box;text-align: center;}#sk-container-id-5 label.sk-toggleable__label-arrow:before {content: \"▸\";float: left;margin-right: 0.25em;color: #696969;}#sk-container-id-5 label.sk-toggleable__label-arrow:hover:before {color: black;}#sk-container-id-5 div.sk-estimator:hover label.sk-toggleable__label-arrow:before {color: black;}#sk-container-id-5 div.sk-toggleable__content {max-height: 0;max-width: 0;overflow: hidden;text-align: left;background-color: #f0f8ff;}#sk-container-id-5 div.sk-toggleable__content pre {margin: 0.2em;color: black;border-radius: 0.25em;background-color: #f0f8ff;}#sk-container-id-5 input.sk-toggleable__control:checked~div.sk-toggleable__content {max-height: 200px;max-width: 100%;overflow: auto;}#sk-container-id-5 input.sk-toggleable__control:checked~label.sk-toggleable__label-arrow:before {content: \"▾\";}#sk-container-id-5 div.sk-estimator input.sk-toggleable__control:checked~label.sk-toggleable__label {background-color: #d4ebff;}#sk-container-id-5 div.sk-label input.sk-toggleable__control:checked~label.sk-toggleable__label {background-color: #d4ebff;}#sk-container-id-5 input.sk-hidden--visually {border: 0;clip: rect(1px 1px 1px 1px);clip: rect(1px, 1px, 1px, 1px);height: 1px;margin: -1px;overflow: hidden;padding: 0;position: absolute;width: 1px;}#sk-container-id-5 div.sk-estimator {font-family: monospace;background-color: #f0f8ff;border: 1px dotted black;border-radius: 0.25em;box-sizing: border-box;margin-bottom: 0.5em;}#sk-container-id-5 div.sk-estimator:hover {background-color: #d4ebff;}#sk-container-id-5 div.sk-parallel-item::after {content: \"\";width: 100%;border-bottom: 1px solid gray;flex-grow: 1;}#sk-container-id-5 div.sk-label:hover label.sk-toggleable__label {background-color: #d4ebff;}#sk-container-id-5 div.sk-serial::before {content: \"\";position: absolute;border-left: 1px solid gray;box-sizing: border-box;top: 0;bottom: 0;left: 50%;z-index: 0;}#sk-container-id-5 div.sk-serial {display: flex;flex-direction: column;align-items: center;background-color: white;padding-right: 0.2em;padding-left: 0.2em;position: relative;}#sk-container-id-5 div.sk-item {position: relative;z-index: 1;}#sk-container-id-5 div.sk-parallel {display: flex;align-items: stretch;justify-content: center;background-color: white;position: relative;}#sk-container-id-5 div.sk-item::before, #sk-container-id-5 div.sk-parallel-item::before {content: \"\";position: absolute;border-left: 1px solid gray;box-sizing: border-box;top: 0;bottom: 0;left: 50%;z-index: -1;}#sk-container-id-5 div.sk-parallel-item {display: flex;flex-direction: column;z-index: 1;position: relative;background-color: white;}#sk-container-id-5 div.sk-parallel-item:first-child::after {align-self: flex-end;width: 50%;}#sk-container-id-5 div.sk-parallel-item:last-child::after {align-self: flex-start;width: 50%;}#sk-container-id-5 div.sk-parallel-item:only-child::after {width: 0;}#sk-container-id-5 div.sk-dashed-wrapped {border: 1px dashed gray;margin: 0 0.4em 0.5em 0.4em;box-sizing: border-box;padding-bottom: 0.4em;background-color: white;}#sk-container-id-5 div.sk-label label {font-family: monospace;font-weight: bold;display: inline-block;line-height: 1.2em;}#sk-container-id-5 div.sk-label-container {text-align: center;}#sk-container-id-5 div.sk-container {/* jupyter's `normalize.less` sets `[hidden] { display: none; }` but bootstrap.min.css set `[hidden] { display: none !important; }` so we also need the `!important` here to be able to override the default hidden behavior on the sphinx rendered scikit-learn.org. See: https://github.com/scikit-learn/scikit-learn/issues/21755 */display: inline-block !important;position: relative;}#sk-container-id-5 div.sk-text-repr-fallback {display: none;}</style><div id=\"sk-container-id-5\" class=\"sk-top-container\"><div class=\"sk-text-repr-fallback\"><pre>DecisionTreeClassifier()</pre><b>In a Jupyter environment, please rerun this cell to show the HTML representation or trust the notebook. <br />On GitHub, the HTML representation is unable to render, please try loading this page with nbviewer.org.</b></div><div class=\"sk-container\" hidden><div class=\"sk-item\"><div class=\"sk-estimator sk-toggleable\"><input class=\"sk-toggleable__control sk-hidden--visually\" id=\"sk-estimator-id-5\" type=\"checkbox\" checked><label for=\"sk-estimator-id-5\" class=\"sk-toggleable__label sk-toggleable__label-arrow\">DecisionTreeClassifier</label><div class=\"sk-toggleable__content\"><pre>DecisionTreeClassifier()</pre></div></div></div></div></div>"
            ]
          },
          "metadata": {},
          "execution_count": 53
        }
      ]
    },
    {
      "cell_type": "code",
      "source": [
        "pred_dt = dt.predict(XV_test)"
      ],
      "metadata": {
        "execution": {
          "iopub.status.busy": "2024-02-18T05:35:45.910413Z",
          "iopub.execute_input": "2024-02-18T05:35:45.910786Z",
          "iopub.status.idle": "2024-02-18T05:35:45.923314Z",
          "shell.execute_reply.started": "2024-02-18T05:35:45.910756Z",
          "shell.execute_reply": "2024-02-18T05:35:45.92199Z"
        },
        "trusted": true,
        "id": "W5xbm94a7ybi"
      },
      "execution_count": 54,
      "outputs": []
    },
    {
      "cell_type": "code",
      "source": [
        "score_dt = dt.score(XV_test, y_test)\n",
        "score_dt"
      ],
      "metadata": {
        "execution": {
          "iopub.status.busy": "2024-02-18T05:35:46.400591Z",
          "iopub.execute_input": "2024-02-18T05:35:46.401016Z",
          "iopub.status.idle": "2024-02-18T05:35:46.415385Z",
          "shell.execute_reply.started": "2024-02-18T05:35:46.400981Z",
          "shell.execute_reply": "2024-02-18T05:35:46.414035Z"
        },
        "trusted": true,
        "colab": {
          "base_uri": "https://localhost:8080/"
        },
        "id": "I-0kvDv37ybi",
        "outputId": "8bb01dc8-d2e7-45a2-8315-d95b2c023ee5"
      },
      "execution_count": 55,
      "outputs": [
        {
          "output_type": "execute_result",
          "data": {
            "text/plain": [
              "0.7607350800582242"
            ]
          },
          "metadata": {},
          "execution_count": 55
        }
      ]
    },
    {
      "cell_type": "code",
      "source": [
        "print(classification_report(y_test, pred_dt))"
      ],
      "metadata": {
        "execution": {
          "iopub.status.busy": "2024-02-18T05:35:47.325103Z",
          "iopub.execute_input": "2024-02-18T05:35:47.326323Z",
          "iopub.status.idle": "2024-02-18T05:35:47.345148Z",
          "shell.execute_reply.started": "2024-02-18T05:35:47.326289Z",
          "shell.execute_reply": "2024-02-18T05:35:47.34369Z"
        },
        "trusted": true,
        "colab": {
          "base_uri": "https://localhost:8080/"
        },
        "id": "vhnPzXzZ7ybi",
        "outputId": "6268f6f5-073e-4611-b8a4-53d394a7bfb0"
      },
      "execution_count": 56,
      "outputs": [
        {
          "output_type": "stream",
          "name": "stdout",
          "text": [
            "              precision    recall  f1-score   support\n",
            "\n",
            "           0       0.70      0.75      0.72      1572\n",
            "           1       0.76      0.77      0.76      2236\n",
            "           2       0.83      0.76      0.79      1688\n",
            "\n",
            "    accuracy                           0.76      5496\n",
            "   macro avg       0.76      0.76      0.76      5496\n",
            "weighted avg       0.76      0.76      0.76      5496\n",
            "\n"
          ]
        }
      ]
    },
    {
      "cell_type": "code",
      "source": [
        "ConfusionMatrixDisplay.from_predictions(y_test, pred_dt);"
      ],
      "metadata": {
        "execution": {
          "iopub.status.busy": "2024-02-18T05:35:47.855181Z",
          "iopub.execute_input": "2024-02-18T05:35:47.85556Z",
          "iopub.status.idle": "2024-02-18T05:35:48.110288Z",
          "shell.execute_reply.started": "2024-02-18T05:35:47.855531Z",
          "shell.execute_reply": "2024-02-18T05:35:48.109428Z"
        },
        "trusted": true,
        "colab": {
          "base_uri": "https://localhost:8080/",
          "height": 449
        },
        "id": "nhoi_4gl7ybi",
        "outputId": "6664a6e5-a8fb-4de8-f28c-4d819926f002"
      },
      "execution_count": 57,
      "outputs": [
        {
          "output_type": "display_data",
          "data": {
            "text/plain": [
              "<Figure size 640x480 with 2 Axes>"
            ],
            "image/png": "[encoded data removed]"
          },
          "metadata": {}
        }
      ]
    },
    {
      "cell_type": "markdown",
      "source": [
        "## Random Forest Classifier"
      ],
      "metadata": {
        "id": "nogAxCEK7ybq"
      }
    },
    {
      "cell_type": "code",
      "source": [
        "rfc = RandomForestClassifier(random_state=0)\n",
        "rfc.fit(XV_train, y_train)"
      ],
      "metadata": {
        "execution": {
          "iopub.status.busy": "2024-02-18T05:35:49.14546Z",
          "iopub.execute_input": "2024-02-18T05:35:49.146125Z",
          "iopub.status.idle": "2024-02-18T05:36:21.169713Z",
          "shell.execute_reply.started": "2024-02-18T05:35:49.146091Z",
          "shell.execute_reply": "2024-02-18T05:36:21.167934Z"
        },
        "trusted": true,
        "colab": {
          "base_uri": "https://localhost:8080/",
          "height": 74
        },
        "id": "BonAsyxP7ybq",
        "outputId": "a652e3be-d0b6-4eee-c312-4914d637de26"
      },
      "execution_count": 58,
      "outputs": [
        {
          "output_type": "execute_result",
          "data": {
            "text/plain": [
              "RandomForestClassifier(random_state=0)"
            ],
            "text/html": [
              "<style>#sk-container-id-6 {color: black;background-color: white;}#sk-container-id-6 pre{padding: 0;}#sk-container-id-6 div.sk-toggleable {background-color: white;}#sk-container-id-6 label.sk-toggleable__label {cursor: pointer;display: block;width: 100%;margin-bottom: 0;padding: 0.3em;box-sizing: border-box;text-align: center;}#sk-container-id-6 label.sk-toggleable__label-arrow:before {content: \"▸\";float: left;margin-right: 0.25em;color: #696969;}#sk-container-id-6 label.sk-toggleable__label-arrow:hover:before {color: black;}#sk-container-id-6 div.sk-estimator:hover label.sk-toggleable__label-arrow:before {color: black;}#sk-container-id-6 div.sk-toggleable__content {max-height: 0;max-width: 0;overflow: hidden;text-align: left;background-color: #f0f8ff;}#sk-container-id-6 div.sk-toggleable__content pre {margin: 0.2em;color: black;border-radius: 0.25em;background-color: #f0f8ff;}#sk-container-id-6 input.sk-toggleable__control:checked~div.sk-toggleable__content {max-height: 200px;max-width: 100%;overflow: auto;}#sk-container-id-6 input.sk-toggleable__control:checked~label.sk-toggleable__label-arrow:before {content: \"▾\";}#sk-container-id-6 div.sk-estimator input.sk-toggleable__control:checked~label.sk-toggleable__label {background-color: #d4ebff;}#sk-container-id-6 div.sk-label input.sk-toggleable__control:checked~label.sk-toggleable__label {background-color: #d4ebff;}#sk-container-id-6 input.sk-hidden--visually {border: 0;clip: rect(1px 1px 1px 1px);clip: rect(1px, 1px, 1px, 1px);height: 1px;margin: -1px;overflow: hidden;padding: 0;position: absolute;width: 1px;}#sk-container-id-6 div.sk-estimator {font-family: monospace;background-color: #f0f8ff;border: 1px dotted black;border-radius: 0.25em;box-sizing: border-box;margin-bottom: 0.5em;}#sk-container-id-6 div.sk-estimator:hover {background-color: #d4ebff;}#sk-container-id-6 div.sk-parallel-item::after {content: \"\";width: 100%;border-bottom: 1px solid gray;flex-grow: 1;}#sk-container-id-6 div.sk-label:hover label.sk-toggleable__label {background-color: #d4ebff;}#sk-container-id-6 div.sk-serial::before {content: \"\";position: absolute;border-left: 1px solid gray;box-sizing: border-box;top: 0;bottom: 0;left: 50%;z-index: 0;}#sk-container-id-6 div.sk-serial {display: flex;flex-direction: column;align-items: center;background-color: white;padding-right: 0.2em;padding-left: 0.2em;position: relative;}#sk-container-id-6 div.sk-item {position: relative;z-index: 1;}#sk-container-id-6 div.sk-parallel {display: flex;align-items: stretch;justify-content: center;background-color: white;position: relative;}#sk-container-id-6 div.sk-item::before, #sk-container-id-6 div.sk-parallel-item::before {content: \"\";position: absolute;border-left: 1px solid gray;box-sizing: border-box;top: 0;bottom: 0;left: 50%;z-index: -1;}#sk-container-id-6 div.sk-parallel-item {display: flex;flex-direction: column;z-index: 1;position: relative;background-color: white;}#sk-container-id-6 div.sk-parallel-item:first-child::after {align-self: flex-end;width: 50%;}#sk-container-id-6 div.sk-parallel-item:last-child::after {align-self: flex-start;width: 50%;}#sk-container-id-6 div.sk-parallel-item:only-child::after {width: 0;}#sk-container-id-6 div.sk-dashed-wrapped {border: 1px dashed gray;margin: 0 0.4em 0.5em 0.4em;box-sizing: border-box;padding-bottom: 0.4em;background-color: white;}#sk-container-id-6 div.sk-label label {font-family: monospace;font-weight: bold;display: inline-block;line-height: 1.2em;}#sk-container-id-6 div.sk-label-container {text-align: center;}#sk-container-id-6 div.sk-container {/* jupyter's `normalize.less` sets `[hidden] { display: none; }` but bootstrap.min.css set `[hidden] { display: none !important; }` so we also need the `!important` here to be able to override the default hidden behavior on the sphinx rendered scikit-learn.org. See: https://github.com/scikit-learn/scikit-learn/issues/21755 */display: inline-block !important;position: relative;}#sk-container-id-6 div.sk-text-repr-fallback {display: none;}</style><div id=\"sk-container-id-6\" class=\"sk-top-container\"><div class=\"sk-text-repr-fallback\"><pre>RandomForestClassifier(random_state=0)</pre><b>In a Jupyter environment, please rerun this cell to show the HTML representation or trust the notebook. <br />On GitHub, the HTML representation is unable to render, please try loading this page with nbviewer.org.</b></div><div class=\"sk-container\" hidden><div class=\"sk-item\"><div class=\"sk-estimator sk-toggleable\"><input class=\"sk-toggleable__control sk-hidden--visually\" id=\"sk-estimator-id-6\" type=\"checkbox\" checked><label for=\"sk-estimator-id-6\" class=\"sk-toggleable__label sk-toggleable__label-arrow\">RandomForestClassifier</label><div class=\"sk-toggleable__content\"><pre>RandomForestClassifier(random_state=0)</pre></div></div></div></div></div>"
            ]
          },
          "metadata": {},
          "execution_count": 58
        }
      ]
    },
    {
      "cell_type": "code",
      "source": [
        "pred_rfc = rfc.predict(XV_test)"
      ],
      "metadata": {
        "execution": {
          "iopub.status.busy": "2024-02-18T05:36:21.172057Z",
          "iopub.execute_input": "2024-02-18T05:36:21.172854Z",
          "iopub.status.idle": "2024-02-18T05:36:21.632857Z",
          "shell.execute_reply.started": "2024-02-18T05:36:21.172812Z",
          "shell.execute_reply": "2024-02-18T05:36:21.631803Z"
        },
        "trusted": true,
        "id": "77Qq8dTS7ybq"
      },
      "execution_count": 59,
      "outputs": []
    },
    {
      "cell_type": "code",
      "source": [
        "score_rfc = rfc.score(XV_test, y_test)\n",
        "score_rfc"
      ],
      "metadata": {
        "execution": {
          "iopub.status.busy": "2024-02-18T05:36:21.634Z",
          "iopub.execute_input": "2024-02-18T05:36:21.635066Z",
          "iopub.status.idle": "2024-02-18T05:36:22.112979Z",
          "shell.execute_reply.started": "2024-02-18T05:36:21.635014Z",
          "shell.execute_reply": "2024-02-18T05:36:22.111445Z"
        },
        "trusted": true,
        "colab": {
          "base_uri": "https://localhost:8080/"
        },
        "id": "0hfSoioB7ybq",
        "outputId": "3904f132-5361-410b-c0cb-b3e3f7f660e8"
      },
      "execution_count": 60,
      "outputs": [
        {
          "output_type": "execute_result",
          "data": {
            "text/plain": [
              "0.8138646288209607"
            ]
          },
          "metadata": {},
          "execution_count": 60
        }
      ]
    },
    {
      "cell_type": "code",
      "source": [
        "print(classification_report(y_test, pred_rfc))"
      ],
      "metadata": {
        "execution": {
          "iopub.status.busy": "2024-02-18T05:36:22.115344Z",
          "iopub.execute_input": "2024-02-18T05:36:22.115713Z",
          "iopub.status.idle": "2024-02-18T05:36:22.134973Z",
          "shell.execute_reply.started": "2024-02-18T05:36:22.115682Z",
          "shell.execute_reply": "2024-02-18T05:36:22.13329Z"
        },
        "trusted": true,
        "colab": {
          "base_uri": "https://localhost:8080/"
        },
        "id": "bTMlZCFm7ybq",
        "outputId": "b4e69d5e-2263-453f-9959-edc11cfca6f6"
      },
      "execution_count": 61,
      "outputs": [
        {
          "output_type": "stream",
          "name": "stdout",
          "text": [
            "              precision    recall  f1-score   support\n",
            "\n",
            "           0       0.79      0.76      0.77      1572\n",
            "           1       0.77      0.90      0.83      2236\n",
            "           2       0.92      0.76      0.83      1688\n",
            "\n",
            "    accuracy                           0.81      5496\n",
            "   macro avg       0.83      0.80      0.81      5496\n",
            "weighted avg       0.82      0.81      0.81      5496\n",
            "\n"
          ]
        }
      ]
    },
    {
      "cell_type": "code",
      "source": [
        "ConfusionMatrixDisplay.from_predictions(y_test, pred_rfc);"
      ],
      "metadata": {
        "execution": {
          "iopub.status.busy": "2024-02-18T05:36:22.136188Z",
          "iopub.execute_input": "2024-02-18T05:36:22.13663Z",
          "iopub.status.idle": "2024-02-18T05:36:22.404833Z",
          "shell.execute_reply.started": "2024-02-18T05:36:22.136592Z",
          "shell.execute_reply": "2024-02-18T05:36:22.403798Z"
        },
        "trusted": true,
        "colab": {
          "base_uri": "https://localhost:8080/",
          "height": 454
        },
        "id": "AlvAbdWi7ybq",
        "outputId": "d3ac6f8d-3434-46d1-d453-a9c83ae98b79"
      },
      "execution_count": 62,
      "outputs": [
        {
          "output_type": "display_data",
          "data": {
            "text/plain": [
              "<Figure size 640x480 with 2 Axes>"
            ],
            "image/png": "[encoded data removed]"
          },
          "metadata": {}
        }
      ]
    },
    {
      "cell_type": "markdown",
      "source": [
        "# Naive Bayes"
      ],
      "metadata": {
        "id": "4Kg_HN7c9QYY"
      }
    },
    {
      "cell_type": "code",
      "source": [
        "from sklearn.naive_bayes import MultinomialNB, BernoulliNB\n",
        "from sklearn.metrics import accuracy_score\n",
        "\n",
        "# Different classifiers\n",
        "classifiers = [MultinomialNB(), BernoulliNB()]\n",
        "\n",
        "# Variables to store accuracy scores\n",
        "ScoreMulti = None\n",
        "ScoreBer = None\n",
        "\n",
        "# Iterate through the classifiers\n",
        "for classifier in classifiers:\n",
        "    nb_classifier = classifier\n",
        "    nb_classifier.fit(XV_train, y_train)\n",
        "\n",
        "    predictions = nb_classifier.predict(XV_test)\n",
        "\n",
        "    accuracy = accuracy_score(y_test, predictions)\n",
        "\n",
        "    if isinstance(classifier, MultinomialNB):\n",
        "        ScoreMulti = accuracy\n",
        "    elif isinstance(classifier, BernoulliNB):\n",
        "        ScoreBer = accuracy\n",
        "\n",
        "    print(f\"The classifier is {classifier.__class__.__name__} and the accuracy is {accuracy}\")\n"
      ],
      "metadata": {
        "colab": {
          "base_uri": "https://localhost:8080/"
        },
        "id": "uiJ_7mQ59Hsn",
        "outputId": "e383919f-4a85-4b1f-c6e3-7b83469b9b0f"
      },
      "execution_count": 79,
      "outputs": [
        {
          "output_type": "stream",
          "name": "stdout",
          "text": [
            "The classifier is MultinomialNB and the accuracy is 0.7780203784570596\n",
            "The classifier is BernoulliNB and the accuracy is 0.766193595342067\n"
          ]
        }
      ]
    },
    {
      "cell_type": "markdown",
      "source": [
        "## Best model in accuracy"
      ],
      "metadata": {
        "id": "jqruD7bb7ybr"
      }
    },
    {
      "cell_type": "code",
      "source": [
        "print(f'Logistic regression {score_lr}\\nDecision Tree Classification {score_dt}\\nRandom Forest Classifier {score_rfc}\\nMultinomial Naive Bayes {ScoreMulti}\\nBernoulli Naive Bayes {ScoreBer}')"
      ],
      "metadata": {
        "execution": {
          "iopub.status.busy": "2024-02-18T05:36:22.406071Z",
          "iopub.execute_input": "2024-02-18T05:36:22.406403Z",
          "iopub.status.idle": "2024-02-18T05:36:22.411354Z",
          "shell.execute_reply.started": "2024-02-18T05:36:22.406374Z",
          "shell.execute_reply": "2024-02-18T05:36:22.410565Z"
        },
        "trusted": true,
        "colab": {
          "base_uri": "https://localhost:8080/"
        },
        "id": "N5QA8nBj7ybr",
        "outputId": "d174f5cd-68c1-4481-d0ed-029b49f9adfb"
      },
      "execution_count": 80,
      "outputs": [
        {
          "output_type": "stream",
          "name": "stdout",
          "text": [
            "Logistic regression 0.8309679767103348\n",
            "Decision Tree Classification 0.7607350800582242\n",
            "Random Forest Classifier 0.8138646288209607\n",
            "Multinomial Naive Bayes 0.7780203784570596\n",
            "Bernoulli Naive Bayes 0.766193595342067\n"
          ]
        }
      ]
    },
    {
      "cell_type": "markdown",
      "source": [
        "# Communicate the result"
      ],
      "metadata": {
        "id": "PeSI55IN7ybr"
      }
    },
    {
      "cell_type": "code",
      "source": [
        "def output_lable(n):\n",
        "    if n == 0:\n",
        "        return \"The Text Sentement is Negative\"\n",
        "    elif n == 1:\n",
        "        return \"The Text Sentement is Neutral\"\n",
        "    elif n == 2:\n",
        "        return \"The Text Sentement is Positive\"\n",
        "\n",
        "def manual_testing(news):\n",
        "    testing_news = {\"text\":[news]}\n",
        "    new_def_test = pd.DataFrame(testing_news)\n",
        "    new_def_test[\"text\"] = new_def_test[\"text\"].apply(wp)\n",
        "    new_x_test = new_def_test[\"text\"]\n",
        "    new_xv_test = vectorization.transform(new_x_test)\n",
        "    pred_lr = lr.predict(new_xv_test)\n",
        "    pred_dt = dt.predict(new_xv_test)\n",
        "    pred_rfc = rfc.predict(new_xv_test)\n",
        "\n",
        "    return print((output_lable(pred_lr[0])))"
      ],
      "metadata": {
        "execution": {
          "iopub.status.busy": "2024-02-18T05:36:22.412346Z",
          "iopub.execute_input": "2024-02-18T05:36:22.413103Z",
          "iopub.status.idle": "2024-02-18T05:36:22.426163Z",
          "shell.execute_reply.started": "2024-02-18T05:36:22.413075Z",
          "shell.execute_reply": "2024-02-18T05:36:22.425122Z"
        },
        "trusted": true,
        "id": "k7U9SDNP7ybr"
      },
      "execution_count": 64,
      "outputs": []
    },
    {
      "cell_type": "code",
      "source": [
        "# enter a text to find if its sentiment\n",
        "text = \"I am not feeling okay\"\n",
        "manual_testing(text)"
      ],
      "metadata": {
        "execution": {
          "iopub.status.busy": "2024-02-18T05:36:27.12056Z",
          "iopub.execute_input": "2024-02-18T05:36:27.120953Z",
          "iopub.status.idle": "2024-02-18T05:36:27.140959Z",
          "shell.execute_reply.started": "2024-02-18T05:36:27.120907Z",
          "shell.execute_reply": "2024-02-18T05:36:27.139088Z"
        },
        "trusted": true,
        "colab": {
          "base_uri": "https://localhost:8080/"
        },
        "id": "CJK5k1wO7ybr",
        "outputId": "61ad8f44-668c-48a7-f131-ceec883d4179"
      },
      "execution_count": 81,
      "outputs": [
        {
          "output_type": "stream",
          "name": "stdout",
          "text": [
            "The Text Sentement is Negative\n"
          ]
        }
      ]
    },
    {
      "cell_type": "code",
      "source": [],
      "metadata": {
        "id": "5hABOOtx7ybr"
      },
      "execution_count": 65,
      "outputs": []
    }
  ]
}